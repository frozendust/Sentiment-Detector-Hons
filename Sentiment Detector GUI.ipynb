{
 "cells": [
  {
   "cell_type": "code",
   "execution_count": 38,
   "metadata": {
    "scrolled": true
   },
   "outputs": [],
   "source": [
    "import tkinter\n",
    "from PIL import Image, ImageTk\n",
    "\n",
    "import pickle\n",
    "import nltk\n",
    "    #imports the list of stop words.\n",
    "from nltk.corpus import stopwords\n",
    "    #Used to tokenize the text into a sentace or just words.\n",
    "from nltk.tokenize import sent_tokenize, word_tokenize\n",
    "    #imort regular exprasions\n",
    "import re\n",
    "    #Import text blob for sentiment demo\n",
    "from textblob import TextBlob\n",
    "\n",
    "import pandas as pd  \n",
    "import numpy as np  \n",
    "\n",
    "\n",
    "stopWords = set(stopwords.words('english')) \n"
   ]
  },
  {
   "cell_type": "code",
   "execution_count": null,
   "metadata": {},
   "outputs": [],
   "source": []
  },
  {
   "cell_type": "code",
   "execution_count": 39,
   "metadata": {},
   "outputs": [],
   "source": [
    "def textProcess(SentiText): \n",
    "    \n",
    "    stopWords = set(stopwords.words('english')) \n",
    "    SentiText = SentiText.lower()                                     #convert to lowercase\n",
    "    \n",
    "    pattern = r'\\w+:\\/{2}[\\d\\w-]+(\\.[\\d\\w-]+)*(?:(?:\\/[^\\s/]*))*' \n",
    "    SentiText= re.sub(pattern, \"\", SentiText)                         # remove url\n",
    "    \n",
    "    pattern = r\"[\\d]\"                           \n",
    "    SentiText= re.sub(pattern, \"\", SentiText)                         # remove numbers\n",
    "    \n",
    "    pattern = r\"[^\\w]\"\n",
    "    SentiText= re.sub(pattern, \" \", SentiText)                        # remove commas and puntication\n",
    "    \n",
    "    SentiText = SentiText.strip()                                     # remove white spaces\n",
    "    \n",
    "    SentiText = word_tokenize(SentiText)                              # tokenize sentance\n",
    "    \n",
    "    SentiText = [word for word in SentiText if not word in stopWords] # remove Stop words\n",
    "    return SentiText\n",
    "    "
   ]
  },
  {
   "cell_type": "code",
   "execution_count": 40,
   "metadata": {},
   "outputs": [],
   "source": [
    "def say_hi():\n",
    "    tkinter.Label(window, text = \"Hi\").grid(columnspan = 2)"
   ]
  },
  {
   "cell_type": "code",
   "execution_count": 41,
   "metadata": {},
   "outputs": [],
   "source": [
    "def User_tweet_runner(Tweet):\n",
    "    #tweet =\"Hello i love being here im my hobors class it is great.\"\n",
    "    tweet = textProcess(Tweet)\n",
    "    \n",
    "    palcer=\"\"\n",
    "    for i in (tweet):\n",
    "        palcer = palcer + \" \" + i\n",
    "\n",
    "    tweet = palcer\n",
    "    \n",
    "    tweetArray = [\"\"]\n",
    "    tweetArray[0] = tweet\n",
    "    \n",
    "    Sample_Sentiment_Data_processes = pd.read_csv('SentiSample_10000_processed.csv', encoding = \"ISO-8859-1\")\n",
    "    Sample_Sentiment_Data_processes = Sample_Sentiment_Data_processes.drop(columns=[\"Unnamed: 0\"])\n",
    "    \n",
    "    Sample_Sentiment_Data_processes.isnull().any()\n",
    "    Sample_Sentiment_Data_processes=Sample_Sentiment_Data_processes.fillna(\"placeholder\")\n",
    "    \n",
    "    from sklearn.feature_extraction.text import TfidfVectorizer\n",
    "\n",
    "\n",
    "    vectorizer=TfidfVectorizer()\n",
    "    vectorizer.fit(Sample_Sentiment_Data_processes.Message)\n",
    "    #results=vectorizer.fit_transform([document])\n",
    "    results=vectorizer.transform(tweetArray)\n",
    "    #results=vectorizer.fit_transform([document])\n",
    "    \n",
    "    filename = 'finalized_model_10000.sav'\n",
    "    loaded_model = pickle.load(open(filename, 'rb'))\n",
    "    result = loaded_model.predict(results)\n",
    "\n",
    "    return result"
   ]
  },
  {
   "cell_type": "code",
   "execution_count": 42,
   "metadata": {},
   "outputs": [
    {
     "data": {
      "text/plain": [
       "array([0], dtype=int64)"
      ]
     },
     "execution_count": 42,
     "metadata": {},
     "output_type": "execute_result"
    }
   ],
   "source": [
    "tweet = 'Hello i love being here im my hobors class it is great.'\n",
    "Tweet = \"angry hate anoying angry hate\"\n",
    "User_tweet_runner(Tweet)"
   ]
  },
  {
   "cell_type": "code",
   "execution_count": 43,
   "metadata": {},
   "outputs": [],
   "source": [
    "def User_Tweet():\n",
    "    window.geometry('305x440')\n",
    "    message = Userinput.get(\"1.0\",'end-1c')\n",
    "    if (User_tweet_runner(message) == 0):\n",
    "        icon = tkinter.PhotoImage(file = \"C:/Users/Fr0zendust/Documents/SCHOOL NB/UWC/2019/research paper/Untitled Folder/Negative.png\")\n",
    "        label = tkinter.Label(window, image = icon)\n",
    "        label.image = icon\n",
    "        label.grid(row=6, column= 0,columnspan = 2)\n",
    "\n",
    "    else:\n",
    "        icon = ImageTk.PhotoImage(Image.open(\"C:/Users/Fr0zendust/Documents/SCHOOL NB/UWC/2019/research paper/Untitled Folder/Positive.png\").resize((290, 280)))\n",
    "        #icon = tkinter.PhotoImage(file = \"C:/Users/Fr0zendust/Documents/SCHOOL NB/UWC/2019/research paper/Untitled Folder/Positive.png\")\n",
    "        label = tkinter.Label(window, image = icon)\n",
    "        label.image = icon\n",
    "        label.grid(row=6, column= 0,columnspan = 2)\n",
    "        #print(\"Positive\")\n",
    "\n",
    "    \n",
    "#User_Tweet(\"Hello i love being here im my hobors class it is great.\")"
   ]
  },
  {
   "cell_type": "code",
   "execution_count": 44,
   "metadata": {},
   "outputs": [],
   "source": [
    "def remove_screen():\n",
    "    window.update()"
   ]
  },
  {
   "cell_type": "code",
   "execution_count": 48,
   "metadata": {},
   "outputs": [],
   "source": [
    "window = tkinter.Tk()\n",
    "window.title(\"Sentiment Detector GUI\")\n",
    "\n",
    "window.geometry('305x150')\n",
    "label_1 = tkinter.Label(window, text = \"Hello this is a Sentiemnt Detector for Twitter messages.\").grid(columnspan = 2)\n",
    "label_2 = tkinter.Label(window, text = \"Please enter the message you want to detect \\n then click the Detect button\").grid(columnspan = 2)\n",
    "\n",
    "#top_frame = tkinter.Frame(window).pack()\n",
    "#e1 = tkinter.Entry(window,textvariable=1,width=\"35\")\n",
    "#e1.grid(row = 3, column = 1)\n",
    "\n",
    "btn1 = tkinter.Button(window, text = \"Detect?\", fg = \"Black\", command = User_Tweet, width=6,height=2).grid(row = 3, column=0) \n",
    "btn2 = tkinter.Button(window, text=\"Quit\", command=window.destroy,width=6,height=2).grid(row=5,column=0)\n",
    "#btn3 = tkinter.Button(window, text=\"Refreash\", command=remove_screen,width=6).grid(row=4,column=0)\n",
    "\n",
    "Userinput = tkinter.Text(window,height=\"5\",width=\"30\",bd=\"4\")\n",
    "Userinput.grid(row=3,column=1,rowspan=3)\n",
    "\n",
    "#icon = tkinter.PhotoImage(file = \"C:/Users/Fr0zendust/Documents/SCHOOL NB/UWC/2019/research paper/Untitled Folder/Positive.png\")\n",
    "#label = tkinter.Label(window, image = icon)\n",
    "#label.grid(columnspan = 2)\n",
    "\n",
    "window.mainloop()"
   ]
  },
  {
   "cell_type": "code",
   "execution_count": null,
   "metadata": {},
   "outputs": [],
   "source": []
  },
  {
   "cell_type": "code",
   "execution_count": 46,
   "metadata": {},
   "outputs": [],
   "source": [
    "#tweet = 'Hello i hate it when i have to pull a all nighter all the time it sucks.'\n",
    "tweet = 'Hello i love being here im my honors class it is great.'\n",
    "Tweet = \"Evey time I go to the airport I get terrible service and the person in fornt of me is always loud and annoying   \""
   ]
  }
 ],
 "metadata": {
  "kernelspec": {
   "display_name": "Python 3",
   "language": "python",
   "name": "python3"
  },
  "language_info": {
   "codemirror_mode": {
    "name": "ipython",
    "version": 3
   },
   "file_extension": ".py",
   "mimetype": "text/x-python",
   "name": "python",
   "nbconvert_exporter": "python",
   "pygments_lexer": "ipython3",
   "version": "3.6.5"
  }
 },
 "nbformat": 4,
 "nbformat_minor": 2
}
